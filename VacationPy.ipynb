{
 "cells": [
  {
   "cell_type": "code",
   "execution_count": null,
   "id": "de571d10",
   "metadata": {},
   "outputs": [],
   "source": [
    "# Dependencies\n",
    "import matplotlib.pyplot as plt\n",
    "import pandas as pd\n",
    "import numpy as np\n",
    "import requests\n",
    "import gmaps\n",
    "import os\n",
    "\n",
    "# Import API key\n",
    "from api_keys import g_key"
   ]
  },
  {
   "cell_type": "markdown",
   "id": "71aea3af",
   "metadata": {},
   "source": [
    "## Store Part I results into DataFrame\n",
    "\n",
    "##### Load the csv exported in Part I to a DataFrame"
   ]
  },
  {
   "cell_type": "code",
   "execution_count": null,
   "id": "8d706d67",
   "metadata": {},
   "outputs": [],
   "source": [
    "weather_csv_file = \"output/City_Weather_Data.csv\"\n",
    "\n",
    "weather_df = pd.read_csv(weather_csv_file)\n",
    "\n",
    "weather_df"
   ]
  },
  {
   "cell_type": "markdown",
   "id": "f811e450",
   "metadata": {},
   "source": [
    "### Humidity Heatmap\n",
    "\n",
    "##### Configure gmaps.\n",
    "##### Use the Lat and Lng as locations and Humidity as the weight.\n",
    "##### Add Heatmap layer to map."
   ]
  },
  {
   "cell_type": "code",
   "execution_count": null,
   "id": "77b2c94c",
   "metadata": {
    "scrolled": true
   },
   "outputs": [],
   "source": [
    "# Configure gmaps with API key.\n",
    "gmaps.configure(api_key=g_key)\n",
    "\n",
    "# Convert Humidity to float and store and drop NaN values\n",
    "weather_df = weather_df.dropna()\n",
    "humidity = weather_df[\"Humidity\"].astype(float)\n",
    "\n",
    "# Store 'Latitude' and 'Longitude' into  locations. \n",
    "locations = weather_df[[\"Lat\", \"Lng\"]].astype(float)\n",
    "\n",
    "# Create a humidity Heatmap layer\n",
    "fig = gmaps.figure()\n",
    "\n",
    "heat_layer = gmaps.heatmap_layer(locations, weights=humidity, \n",
    "                                 dissipating=False, max_intensity=max(weather_df[\"Humidity\"]),\n",
    "                                 point_radius = 2)\n",
    "\n",
    "fig.add_layer(heat_layer)\n",
    "\n",
    "fig"
   ]
  },
  {
   "cell_type": "markdown",
   "id": "d6c43cdc",
   "metadata": {},
   "source": [
    "## Create new DataFrame fitting weather criteria\n",
    "\n",
    "##### Narrow down the cities to fit weather conditions.\n",
    "##### Drop any rows will null values."
   ]
  },
  {
   "cell_type": "code",
   "execution_count": null,
   "id": "df09424e",
   "metadata": {},
   "outputs": [],
   "source": [
    "# Narrow down the DataFrame to find your ideal weather condition.\n",
    "criteria_weather_df = weather_df\n",
    "\n",
    "# Drop any rows that don't contain all three conditions. Want to be sure the weather is ideal.\n",
    "\n",
    "# A max temperature lower than 295 degrees but higher than 290.\n",
    "criteria_weather_df = criteria_weather_df.loc[(criteria_weather_df[\"Max Temp\"] < 295) & (criteria_weather_df[\"Max Temp\"] > 290)]\n",
    "\n",
    "# Wind speed less than 10 mph.\n",
    "criteria_weather_df = criteria_weather_df.loc[criteria_weather_df[\"Wind Speed\"] < 10]\n",
    "\n",
    "# Zero cloudiness.\n",
    "criteria_weather_df = criteria_weather_df.loc[criteria_weather_df[\"Cloudiness\"] == 0]\n",
    "\n",
    "# Drop any rows with null values\n",
    "criteria_weather_df = criteria_weather_df.dropna()\n",
    "\n",
    "criteria_weather_df"
   ]
  },
  {
   "cell_type": "markdown",
   "id": "90b25236",
   "metadata": {},
   "source": [
    "## Hotel Map\n",
    "\n",
    "##### Store into variable named hotel_df.\n",
    "##### Add a \"Hotel Name\" column to the DataFrame.\n",
    "##### Set parameters to search for hotels with 5000 meters.\n",
    "##### Hit the Google Places API for each city's coordinates.\n",
    "##### Store the first Hotel result into the DataFrame.Plot markers on top of the heatmap."
   ]
  },
  {
   "cell_type": "code",
   "execution_count": null,
   "id": "372c1d4a",
   "metadata": {},
   "outputs": [],
   "source": [
    "hotel_df = criteria_weather_df\n",
    "\n",
    "# Set parameters to search for hotels with 5000 meters.\n",
    "set_params = {\n",
    "    \"radius\": 5000,\n",
    "    \"types\": \"lodging\",\n",
    "    \"key\": g_key\n",
    "}\n",
    "\n",
    "\n",
    "for index, row in hotel_df.iterrows():\n",
    "    # get lat, lng\n",
    "    lat = row[\"Lat\"]\n",
    "    lng = row[\"Lng\"]\n",
    "\n",
    "    # Hit the Google Places API for each city's coordinates.\n",
    "    set_params[\"location\"] = f\"{lat},{lng}\"\n",
    "    \n",
    "    base_url = \"https://maps.googleapis.com/maps/api/place/nearbysearch/json\"\n",
    "\n",
    "    print(f\" Row {index}: {row['City']}.\")\n",
    "    response = requests.get(base_url, params=set_params).json()\n",
    "    \n",
    "    results = response['results']\n",
    "    \n",
    "    #Add a \"Hotel Name\" column to the DataFrame.\n",
    "    try:\n",
    "        print(f\" Hotel name is {results[0]['name']}.\")\n",
    "        hotel_df.loc[index, 'Hotel Name'] = results[0]['name']\n",
    "        \n",
    "    except (KeyError, IndexError):\n",
    "        print(\"Hotel Missing\")\n"
   ]
  },
  {
   "cell_type": "code",
   "execution_count": null,
   "id": "e2dc75ec",
   "metadata": {},
   "outputs": [],
   "source": [
    "hotel_df"
   ]
  },
  {
   "cell_type": "code",
   "execution_count": null,
   "id": "37b59995",
   "metadata": {},
   "outputs": [],
   "source": [
    "# NOTE: Do not change any of the code in this cell\n",
    "\n",
    "# Using the template add the hotel marks to the heatmap\n",
    "info_box_template = \"\"\"\n",
    "<dl>\n",
    "<dt>Name</dt><dd>{Hotel Name}</dd>\n",
    "<dt>City</dt><dd>{City}</dd>\n",
    "<dt>Country</dt><dd>{Country}</dd>\n",
    "</dl>\n",
    "\"\"\"\n",
    "# Store the DataFrame Row\n",
    "# NOTE: be sure to update with your DataFrame name\n",
    "hotel_info = [info_box_template.format(**row) for index, row in hotel_df.iterrows()]\n",
    "locations = hotel_df[[\"Lat\", \"Lng\"]]"
   ]
  },
  {
   "cell_type": "code",
   "execution_count": null,
   "id": "7c48dfdd",
   "metadata": {},
   "outputs": [],
   "source": [
    "# Add marker layer ontop of heat map\n",
    "marker = gmaps.marker_layer(locations)\n",
    "fig.add_layer(marker)\n",
    "\n",
    "# Display figure\n",
    "fig"
   ]
  },
  {
   "cell_type": "code",
   "execution_count": null,
   "id": "b939a70f",
   "metadata": {},
   "outputs": [],
   "source": []
  }
 ],
 "metadata": {
  "kernelspec": {
   "display_name": "Python 3 (ipykernel)",
   "language": "python",
   "name": "python3"
  },
  "language_info": {
   "codemirror_mode": {
    "name": "ipython",
    "version": 3
   },
   "file_extension": ".py",
   "mimetype": "text/x-python",
   "name": "python",
   "nbconvert_exporter": "python",
   "pygments_lexer": "ipython3",
   "version": "3.8.13"
  }
 },
 "nbformat": 4,
 "nbformat_minor": 5
}
